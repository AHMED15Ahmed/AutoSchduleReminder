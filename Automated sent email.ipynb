{
 "cells": [
  {
   "cell_type": "code",
   "execution_count": null,
   "id": "8766cf2f",
   "metadata": {},
   "outputs": [],
   "source": []
  },
  {
   "cell_type": "code",
   "execution_count": 6,
   "id": "a333252f",
   "metadata": {},
   "outputs": [
    {
     "data": {
      "text/plain": [
       "(221,\n",
       " b'2.0.0 closing connection p18-20020a5d4592000000b0021f73c66198sm13920984wrq.1 - gsmtp')"
      ]
     },
     "execution_count": 6,
     "metadata": {},
     "output_type": "execute_result"
    }
   ],
   "source": [
    "#Import the following modules\n",
    "import smtplib\n",
    "import schedule\n",
    "import time\n",
    "# ==================================================================\n",
    "# the server address and port number to initiate our SMTP connection\n",
    "# ===================================================================\n",
    "SMTP_SERVER = 'smtp.gmail.com'\n",
    "SMTP_PORT = 587\n",
    " \n",
    "# ====================================================================\n",
    "# Identify Sender and Receiver  for emailing\n",
    "# ====================================================================\n",
    "\n",
    "sender = 'sender@gmail.com'\n",
    "recipient = 'receiver@gmail.com'\n",
    "#you can use also  multi-send like  to = [\"aaa@gmail.com\", \"bbb@gmail.com\", \"ccc@gmail.com\"]\n",
    "subject = 'Gmail SMTP Test'\n",
    "body = 'Your Content ...'\n",
    "password ='byslkjgghssfhzyg'\n",
    "\n",
    "# initialize connection to our email server\n",
    "session = smtplib.SMTP( SMTP_SERVER, SMTP_PORT)\n",
    "# smtp.ehlo to send an EHLO (Extended Hello) command.\n",
    "session.ehlo()\n",
    "# smtp.starttls to enable transport layer security (TLS) encryption.\n",
    "session.starttls()\n",
    "session.login(sender, password)\n",
    "#data to the sendmail function\n",
    "session.sendmail(sender, recipient, subject + \"\\r\\n\\r\\n\" + body)\n",
    "#  close the connection\n",
    "session.quit()\n",
    "\n",
    "# ====================================================================\n",
    "#  Schedule Email Messages \n",
    "# ====================================================================\n",
    "\n",
    "schedule.every(3).seconds.do(mail)\n",
    "schedule.every(10).minutes.do(mail)\n",
    "schedule.every().hour.do(mail)\n",
    "schedule.every().day.at(\"12:30\").do(mail)\n",
    "schedule.every(1).to(5).minutes.do(mail)\n",
    "schedule.every().monday.do(mail)\n",
    "schedule.every().wednesday.at(\"12:10\").do(mail)\n",
    "schedule.every().minute.at(\":15\").do(mail)\n",
    "  \n",
    "while True:\n",
    "    schedule.run_pending()\n",
    "    time.sleep(1)"
   ]
  },
  {
   "cell_type": "code",
   "execution_count": null,
   "id": "bbc61b07",
   "metadata": {},
   "outputs": [],
   "source": []
  }
 ],
 "metadata": {
  "kernelspec": {
   "display_name": "Python 3 (ipykernel)",
   "language": "python",
   "name": "python3"
  },
  "language_info": {
   "codemirror_mode": {
    "name": "ipython",
    "version": 3
   },
   "file_extension": ".py",
   "mimetype": "text/x-python",
   "name": "python",
   "nbconvert_exporter": "python",
   "pygments_lexer": "ipython3",
   "version": "3.8.13"
  }
 },
 "nbformat": 4,
 "nbformat_minor": 5
}
